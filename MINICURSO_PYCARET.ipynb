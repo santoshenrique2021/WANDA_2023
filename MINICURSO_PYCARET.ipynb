{
 "cells": [
  {
   "cell_type": "markdown",
   "id": "6fc027a4",
   "metadata": {},
   "source": [
    "# Pycaret \n",
    "\n",
    "Pycaret é uma biblioteca do Python que automatiza o fluxo de *machine learning* (aprendizado de máquina) com poucas linhas de código. Tal fato permite que os experimentos tornem-se mais rápidos, flexíveis e eficientes. Através desta biblioteca, é possível testar vários algoritmos ao mesmo tempo.\n",
    "\n",
    "## Perspectivas de aplicação\n",
    "1. Regressão;\n",
    "2. Classificação;\n",
    "3. Análise de cluster;\n",
    "4. Séries temporais;\n",
    "5. Detecção de anomalias.\n",
    "\n",
    "## Documentação oficial\n",
    "\n",
    "* https://pycaret.readthedocs.io/en/stable/"
   ]
  },
  {
   "cell_type": "markdown",
   "id": "3720efef",
   "metadata": {},
   "source": [
    "# Palestrante\n",
    "\n",
    "## Sobre mim\n",
    "\n",
    "* **Henrique Santos**. \n",
    "    * Doutor em Biometria e Estatística Aplicada pela Universidade Federal Rural de Pernambuco e analista sênio de crédito e prevenção à fraude da DESKTOP - empresa paulista que fornence internet banda larga para as cidades de São Paulo. Desde 2020 trabalha com ciência de dados.\n",
    "\n",
    "## Contato\n",
    "\n",
    "* E-mail: santos.henrique624@gmail.com\n",
    "* LinkedIn: https://www.linkedin.com/in/henriquesantos2021/\n",
    "* GitHub: https://github.com/santoshenrique2021\n",
    "    \n",
    "    "
   ]
  },
  {
   "cell_type": "markdown",
   "id": "dba22932",
   "metadata": {},
   "source": [
    "# Propósito do seminário\n",
    "\n",
    "Este seminário introduz o *pycaret* aplicado a **problemas de classificação**, ou seja, predizer a classe de uma variável qualitativa (chamada de **ALVO** ou **TARGET** ou **variável resposta** ou **variável dependente**) através de um conjunto de variáveis preditoras (variáveis explicativas/variáveis independentes) que podem ser qualitativas ou quantitativas. Em linhas gerais, **o algoritmo produzirá uma probabilidade (escore ou pontuação) que indicará a classe da observação**.\n",
    "\n",
    "**Nota** -O foco deste seminário são **problemas de classificação binária**. Assim, o **ALVO** apresenta duas categorias que são mutuamente exclusivas e coletivamente exaustivas - **abrange todo o espaço amostral**."
   ]
  },
  {
   "cell_type": "markdown",
   "id": "5a77f2fb",
   "metadata": {},
   "source": [
    "# Exemplos de problemas de classificação binária\n",
    "\n",
    "* O cliente, ao adquirir um empréstimo, se tornará **adimplente** (bom pagador) ou **inadimplente** (mau pagador);\n",
    "* O paciente, ao realizar um exame médico para detectar um tipo de doença, terá como diagnósitoco a **presença ou ausência da doença requerida**.\n",
    "     "
   ]
  },
  {
   "cell_type": "markdown",
   "id": "ed33fa96",
   "metadata": {},
   "source": [
    "# Uilização acadêmica\n",
    "\n",
    "## Publicações\n",
    "\n",
    "* https://www.sciencedirect.com/science/article/pii/S0023643823006746 (2023)\n",
    "* https://www.sciencedirect.com/science/article/abs/pii/S0030402623003698 (2023)\n",
    "* https://www.sciencedirect.com/science/article/abs/pii/S0010482523005541 (2023)\n",
    "* https://www.sciencedirect.com/science/article/pii/S0006497121039021 (2021)"
   ]
  },
  {
   "cell_type": "markdown",
   "id": "e44e522b",
   "metadata": {},
   "source": [
    "# Demonstração da biblioteca"
   ]
  },
  {
   "cell_type": "markdown",
   "id": "483de86c",
   "metadata": {},
   "source": [
    "\n",
    "## Contextualização do exemplo\n",
    "\n",
    "> **Contexto**: Prever se um paciente apresenta uma doença cardíaca.\n",
    "\n",
    "> **Banco de dados**: Informações sobre 303 pacientes submetidos à angiografia (exame cardíaco). Desta forma, foram coletadas diversas informações médicas dos enfermos. \n",
    "\n",
    "> **Total de variáveis**: 14 variáveis - 13 explicativas e o ALVO.\n",
    "\n",
    "* **Fonte dos dados** : *Heart Disease Cleveland*\n",
    "    * https://pubmed.ncbi.nlm.nih.gov/2756873/\n",
    "    * https://archive.ics.uci.edu/dataset/45/heart+disease\n",
    "    * https://towardsdatascience.com/heart-disease-prediction-73468d630cfc\n",
    "    \n",
    "## Descrição das variáveis\n",
    "\n",
    "1. **ALVO**: Variável binária que diz se o paciente sofre ou não de alguma doença cardíaca:\n",
    "    * 1 - Paciente apresenta alguma doença cardíaca; \n",
    "    * 0 - Paciente não apresenta doença cardíaca.\n",
    "2. **Age**: Variável quantitativa que informa a idade do paciente, mensurada em anos;\n",
    "3. **Sex**: Variável binária que informa o sexo do paciente:\n",
    "4. **Chest_pain**: Variável categórica relacionada ao tipo de dor no peito sentida pelo paciente, segmentada em quatro categorias;\n",
    "5. **Resting Blood Pressure**: Variável quantitativa que mede a pressão arterial do paciente em estado de repouso, mensurada em milímetros de mercúrio (mm Hg);\n",
    "6. **Serum_cholestrol**: Variável quantitativa que mede o colesterol do paciente, mensurada em miligramas por decilitro (mg/dL);\n",
    "7. **Fasting_blood_sugar**: Variável binária que compara o valor de açúcar no sangue do paciente em jejum: \n",
    "    * HIGH - Se a glicose for maior que  120mg/dl;\n",
    "    * LOW - Se a glicose for menor que  120mg/dl.\n",
    "8. **Resting ECG**: Variável categórica relacionada ao resultado do eletrocardiograma do paciente em estado de repouso. Ela foi segmentada em três categorias; \n",
    "9. **Max_heart_rate_achieved**: Variável quantitativa que mede a frequência máxima cardíaca atingida pelo paciente, mensurada em bpm - batimentos por minuto;\n",
    "10. **Exercise_induced_angina**: Variável binária que informa se o paciente sente uma dor cardiáca relacionada a execução de um esforço físico ou estado de extresse:\n",
    "    * PAIN - presença de dor;\n",
    "    * NO_PAIN - ausência de dor.\n",
    "11. **ST_depression**: Variável quantitativa que mede a depressão do segmento ST induzida por exercício em relação repouso;\n",
    "12. **Peak_exercise_ST_segment**: Variável categórica que descrimina o tipo de segmento ST. Ela apresenta em três categorias;\n",
    "13. **Number_of_major_vessels**: Variável quantitativa que mede o número de vasos principais (0–3) coloridos por fluoroscopia;\n",
    "14. **Thal**: Variável categórica relacionada a um grupo de doenças no sangue relacionada a anomalias na produção de hemoglobina, segmentada em três categorias."
   ]
  },
  {
   "cell_type": "markdown",
   "id": "b7079bf5",
   "metadata": {},
   "source": [
    "## Fluxo do pycaret\n",
    "\n",
    "A partir de um conjunto de dados, **divide-se a amostra em treino e teste**. O classificador é construído a partir das observações da base de treino e depois analisa-se sua performance na base de teste. Ao longo deste processo, **diversos métodos de previsão serão testados, incluíndo suas métricas de avaliação**."
   ]
  },
  {
   "cell_type": "markdown",
   "id": "f33b31e3",
   "metadata": {},
   "source": [
    "# Pipeline da modelagem"
   ]
  },
  {
   "cell_type": "markdown",
   "id": "81692e09",
   "metadata": {},
   "source": [
    "## Imports"
   ]
  },
  {
   "cell_type": "code",
   "execution_count": 1,
   "id": "60771e72",
   "metadata": {},
   "outputs": [],
   "source": [
    "#Bibliotecas\n",
    "import pandas as pd #Análise de dados\n",
    "import numpy as np  #Análise de dados\n",
    "from pycaret.classification import * #Modelagem (machine learning)"
   ]
  },
  {
   "cell_type": "markdown",
   "id": "8ba1c7f4",
   "metadata": {},
   "source": [
    "## Visão geral dos dados"
   ]
  },
  {
   "cell_type": "code",
   "execution_count": 2,
   "id": "e02f5708",
   "metadata": {},
   "outputs": [
    {
     "data": {
      "text/html": [
       "<div>\n",
       "<style scoped>\n",
       "    .dataframe tbody tr th:only-of-type {\n",
       "        vertical-align: middle;\n",
       "    }\n",
       "\n",
       "    .dataframe tbody tr th {\n",
       "        vertical-align: top;\n",
       "    }\n",
       "\n",
       "    .dataframe thead th {\n",
       "        text-align: right;\n",
       "    }\n",
       "</style>\n",
       "<table border=\"1\" class=\"dataframe\">\n",
       "  <thead>\n",
       "    <tr style=\"text-align: right;\">\n",
       "      <th></th>\n",
       "      <th>Age</th>\n",
       "      <th>Sex</th>\n",
       "      <th>Chest_pain</th>\n",
       "      <th>Resting_blood_pressure</th>\n",
       "      <th>Serum_cholestrol</th>\n",
       "      <th>Fasting_blood_sugar</th>\n",
       "      <th>Resting_ECG</th>\n",
       "      <th>Max_heart_rate_achieved</th>\n",
       "      <th>Exercise_induced_angina</th>\n",
       "      <th>ST_depression</th>\n",
       "      <th>Peak_exercise_ST_segment</th>\n",
       "      <th>Number_of_major_vessels</th>\n",
       "      <th>Thal</th>\n",
       "      <th>ALVO</th>\n",
       "    </tr>\n",
       "  </thead>\n",
       "  <tbody>\n",
       "    <tr>\n",
       "      <th>0</th>\n",
       "      <td>63</td>\n",
       "      <td>MALE</td>\n",
       "      <td>LEVEL_1</td>\n",
       "      <td>145</td>\n",
       "      <td>233</td>\n",
       "      <td>HIGH</td>\n",
       "      <td>LEVEL_2</td>\n",
       "      <td>150</td>\n",
       "      <td>NO_PAIN</td>\n",
       "      <td>2.3</td>\n",
       "      <td>LEVEL_3</td>\n",
       "      <td>0.0</td>\n",
       "      <td>LEVEL_6</td>\n",
       "      <td>0</td>\n",
       "    </tr>\n",
       "    <tr>\n",
       "      <th>1</th>\n",
       "      <td>67</td>\n",
       "      <td>MALE</td>\n",
       "      <td>LEVEL_4</td>\n",
       "      <td>160</td>\n",
       "      <td>286</td>\n",
       "      <td>LOW</td>\n",
       "      <td>LEVEL_2</td>\n",
       "      <td>108</td>\n",
       "      <td>PAIN</td>\n",
       "      <td>1.5</td>\n",
       "      <td>LEVEL_2</td>\n",
       "      <td>3.0</td>\n",
       "      <td>LEVEL_3</td>\n",
       "      <td>1</td>\n",
       "    </tr>\n",
       "    <tr>\n",
       "      <th>2</th>\n",
       "      <td>67</td>\n",
       "      <td>MALE</td>\n",
       "      <td>LEVEL_4</td>\n",
       "      <td>120</td>\n",
       "      <td>229</td>\n",
       "      <td>LOW</td>\n",
       "      <td>LEVEL_2</td>\n",
       "      <td>129</td>\n",
       "      <td>PAIN</td>\n",
       "      <td>2.6</td>\n",
       "      <td>LEVEL_2</td>\n",
       "      <td>2.0</td>\n",
       "      <td>LEVEL_7</td>\n",
       "      <td>1</td>\n",
       "    </tr>\n",
       "    <tr>\n",
       "      <th>3</th>\n",
       "      <td>37</td>\n",
       "      <td>MALE</td>\n",
       "      <td>LEVEL_3</td>\n",
       "      <td>130</td>\n",
       "      <td>250</td>\n",
       "      <td>LOW</td>\n",
       "      <td>LEVEL_0</td>\n",
       "      <td>187</td>\n",
       "      <td>NO_PAIN</td>\n",
       "      <td>3.5</td>\n",
       "      <td>LEVEL_3</td>\n",
       "      <td>0.0</td>\n",
       "      <td>LEVEL_3</td>\n",
       "      <td>0</td>\n",
       "    </tr>\n",
       "  </tbody>\n",
       "</table>\n",
       "</div>"
      ],
      "text/plain": [
       "   Age   Sex Chest_pain  Resting_blood_pressure  Serum_cholestrol  \\\n",
       "0   63  MALE    LEVEL_1                     145               233   \n",
       "1   67  MALE    LEVEL_4                     160               286   \n",
       "2   67  MALE    LEVEL_4                     120               229   \n",
       "3   37  MALE    LEVEL_3                     130               250   \n",
       "\n",
       "  Fasting_blood_sugar Resting_ECG  Max_heart_rate_achieved  \\\n",
       "0                HIGH     LEVEL_2                      150   \n",
       "1                 LOW     LEVEL_2                      108   \n",
       "2                 LOW     LEVEL_2                      129   \n",
       "3                 LOW     LEVEL_0                      187   \n",
       "\n",
       "  Exercise_induced_angina  ST_depression Peak_exercise_ST_segment  \\\n",
       "0                 NO_PAIN            2.3                  LEVEL_3   \n",
       "1                    PAIN            1.5                  LEVEL_2   \n",
       "2                    PAIN            2.6                  LEVEL_2   \n",
       "3                 NO_PAIN            3.5                  LEVEL_3   \n",
       "\n",
       "   Number_of_major_vessels     Thal  ALVO  \n",
       "0                      0.0  LEVEL_6     0  \n",
       "1                      3.0  LEVEL_3     1  \n",
       "2                      2.0  LEVEL_7     1  \n",
       "3                      0.0  LEVEL_3     0  "
      ]
     },
     "execution_count": 2,
     "metadata": {},
     "output_type": "execute_result"
    }
   ],
   "source": [
    "#Importar os dados\n",
    "df = pd.read_csv(\"dados_pycaret.csv\", sep = ',')\n",
    "#Visualizar as 4 primeiras linhas da base de dados\n",
    "df.head(4) #Quando o ALVO apresenta o valor igual 1, pode-se afirmar que a observação apresenta a doença cardíaca."
   ]
  },
  {
   "cell_type": "markdown",
   "id": "b36eb0f6",
   "metadata": {},
   "source": [
    "## Estatística descritiva"
   ]
  },
  {
   "cell_type": "code",
   "execution_count": 3,
   "id": "c6da9daa",
   "metadata": {},
   "outputs": [
    {
     "data": {
      "text/plain": [
       "303"
      ]
     },
     "execution_count": 3,
     "metadata": {},
     "output_type": "execute_result"
    }
   ],
   "source": [
    "#Total de observações \n",
    "df.shape[0] #303"
   ]
  },
  {
   "cell_type": "code",
   "execution_count": 4,
   "id": "31bcbd21",
   "metadata": {},
   "outputs": [
    {
     "data": {
      "text/plain": [
       "Age                         0.00\n",
       "Sex                         0.00\n",
       "Chest_pain                  0.00\n",
       "Resting_blood_pressure      0.00\n",
       "Serum_cholestrol            0.00\n",
       "Fasting_blood_sugar         0.00\n",
       "Resting_ECG                 0.00\n",
       "Max_heart_rate_achieved     0.00\n",
       "Exercise_induced_angina     0.00\n",
       "ST_depression               0.00\n",
       "Peak_exercise_ST_segment    0.00\n",
       "Number_of_major_vessels     1.32\n",
       "Thal                        0.66\n",
       "ALVO                        0.00\n",
       "dtype: float64"
      ]
     },
     "execution_count": 4,
     "metadata": {},
     "output_type": "execute_result"
    }
   ],
   "source": [
    "#Percentual de missing de cada variável no data frame\n",
    "((df.isnull() | df.isna()).sum() * 100 / df.index.size).round(2)"
   ]
  },
  {
   "cell_type": "code",
   "execution_count": 5,
   "id": "dad56f36",
   "metadata": {},
   "outputs": [
    {
     "name": "stdout",
     "output_type": "stream",
     "text": [
      "<class 'pandas.core.frame.DataFrame'>\n",
      "RangeIndex: 303 entries, 0 to 302\n",
      "Data columns (total 14 columns):\n",
      " #   Column                    Non-Null Count  Dtype  \n",
      "---  ------                    --------------  -----  \n",
      " 0   Age                       303 non-null    int64  \n",
      " 1   Sex                       303 non-null    object \n",
      " 2   Chest_pain                303 non-null    object \n",
      " 3   Resting_blood_pressure    303 non-null    int64  \n",
      " 4   Serum_cholestrol          303 non-null    int64  \n",
      " 5   Fasting_blood_sugar       303 non-null    object \n",
      " 6   Resting_ECG               303 non-null    object \n",
      " 7   Max_heart_rate_achieved   303 non-null    int64  \n",
      " 8   Exercise_induced_angina   303 non-null    object \n",
      " 9   ST_depression             303 non-null    float64\n",
      " 10  Peak_exercise_ST_segment  303 non-null    object \n",
      " 11  Number_of_major_vessels   299 non-null    float64\n",
      " 12  Thal                      301 non-null    object \n",
      " 13  ALVO                      303 non-null    int64  \n",
      "dtypes: float64(2), int64(5), object(7)\n",
      "memory usage: 33.3+ KB\n"
     ]
    }
   ],
   "source": [
    "#Tipo das variáveis\n",
    "df.info() \n",
    "#int64 implica que a variável inteira; \n",
    "#float64 implica que a variável é contínua;\n",
    "#object implica que a variável é string (texto) - no nosso contexto, é categórica."
   ]
  },
  {
   "cell_type": "code",
   "execution_count": 6,
   "id": "80d0f84d",
   "metadata": {},
   "outputs": [
    {
     "data": {
      "text/plain": [
       "0    54.0\n",
       "1    46.0\n",
       "Name: ALVO, dtype: float64"
      ]
     },
     "execution_count": 6,
     "metadata": {},
     "output_type": "execute_result"
    }
   ],
   "source": [
    "#Frequência relativa de ocorrência do ALVO (Taxa de ocorrência do ALVO)\n",
    "round(100*(df['ALVO'].value_counts())/df['ALVO'].shape[0],0) #46% dos pacientes apresentam alguma doença cardíaca"
   ]
  },
  {
   "cell_type": "code",
   "execution_count": 7,
   "id": "246c5957",
   "metadata": {},
   "outputs": [
    {
     "data": {
      "text/plain": [
       "count    303.000000\n",
       "mean     149.607261\n",
       "std       22.875003\n",
       "min       71.000000\n",
       "25%      133.500000\n",
       "50%      153.000000\n",
       "75%      166.000000\n",
       "max      202.000000\n",
       "Name: Max_heart_rate_achieved, dtype: float64"
      ]
     },
     "execution_count": 7,
     "metadata": {},
     "output_type": "execute_result"
    }
   ],
   "source": [
    "#Sumário estatístico de uma variável quantitativa \n",
    "df['Max_heart_rate_achieved'].describe() ##Frequência máxima cardíaca"
   ]
  },
  {
   "cell_type": "code",
   "execution_count": 8,
   "id": "a9ffec03",
   "metadata": {},
   "outputs": [
    {
     "data": {
      "text/plain": [
       "0    LEVEL_1\n",
       "1    LEVEL_4\n",
       "3    LEVEL_3\n",
       "4    LEVEL_2\n",
       "Name: Chest_pain, dtype: object"
      ]
     },
     "execution_count": 8,
     "metadata": {},
     "output_type": "execute_result"
    }
   ],
   "source": [
    "#Categorias de uma variável categórica\n",
    "df['Chest_pain'].drop_duplicates() ##Dor no peito "
   ]
  },
  {
   "cell_type": "code",
   "execution_count": 9,
   "id": "ef1b8164",
   "metadata": {},
   "outputs": [
    {
     "data": {
      "text/plain": [
       "LEVEL_4    144\n",
       "LEVEL_3     86\n",
       "LEVEL_2     50\n",
       "LEVEL_1     23\n",
       "Name: Chest_pain, dtype: int64"
      ]
     },
     "execution_count": 9,
     "metadata": {},
     "output_type": "execute_result"
    }
   ],
   "source": [
    "#Frequência absoluta de uma variável categórica\n",
    "df['Chest_pain'].value_counts() #Dor no peito"
   ]
  },
  {
   "cell_type": "code",
   "execution_count": 10,
   "id": "86a252a2",
   "metadata": {},
   "outputs": [
    {
     "data": {
      "text/plain": [
       "LEVEL_4    48.0\n",
       "LEVEL_3    28.0\n",
       "LEVEL_2    17.0\n",
       "LEVEL_1     8.0\n",
       "Name: Chest_pain, dtype: float64"
      ]
     },
     "execution_count": 10,
     "metadata": {},
     "output_type": "execute_result"
    }
   ],
   "source": [
    "#Frequência relativa de uma variável categórica\n",
    "round(100*(df['Chest_pain'].value_counts())/df['Chest_pain'].shape[0],0) #Dor no peito"
   ]
  },
  {
   "cell_type": "code",
   "execution_count": 11,
   "id": "bc2e6a42",
   "metadata": {},
   "outputs": [
    {
     "data": {
      "text/plain": [
       "Chest_pain  ALVO\n",
       "LEVEL_1     0       70.0\n",
       "            1       30.0\n",
       "LEVEL_2     0       82.0\n",
       "            1       18.0\n",
       "LEVEL_3     0       79.0\n",
       "            1       21.0\n",
       "LEVEL_4     1       73.0\n",
       "            0       27.0\n",
       "Name: ALVO, dtype: float64"
      ]
     },
     "execution_count": 11,
     "metadata": {},
     "output_type": "execute_result"
    }
   ],
   "source": [
    "#Análise bivariada - cruzar o ALVO com alguma variável explicativa\n",
    "#Distribuição do ALVO para cada nível da variável categórica\n",
    "alvo_dor_no_peito = round(df.groupby(['Chest_pain'])['ALVO'].value_counts(normalize=True) * 100,0)\n",
    "alvo_dor_no_peito.head(8) ##Dor no peito vs ALVO"
   ]
  },
  {
   "cell_type": "markdown",
   "id": "5ecd7c71",
   "metadata": {},
   "source": [
    "**Insight**: O LEVEL_4 da variável dor no peito (*Chest pain*), em 73% dos casos, mostrou que as observações tinham doença cardíaca."
   ]
  },
  {
   "cell_type": "markdown",
   "id": "bb1a3a36",
   "metadata": {},
   "source": [
    "# Pycaret"
   ]
  },
  {
   "cell_type": "markdown",
   "id": "38bf53c6",
   "metadata": {},
   "source": [
    "## 1. Setup\n",
    "\n",
    "Cria todo o pipeline relacionado ao pré-processamento dos dados e apresenta dois parâmetros mandatórios:\n",
    "\n",
    "* **data** - tabela de dados (data frame);\n",
    "* **target** - ALVO."
   ]
  },
  {
   "cell_type": "code",
   "execution_count": null,
   "id": "e1896187",
   "metadata": {},
   "outputs": [],
   "source": [
    "#Detalhes de todos os parâmetros da função setup\n",
    "setup??"
   ]
  },
  {
   "cell_type": "code",
   "execution_count": 12,
   "id": "4beee4a4",
   "metadata": {},
   "outputs": [
    {
     "data": {
      "text/html": [
       "<style type=\"text/css\">\n",
       "#T_f4d83_row11_col1, #T_f4d83_row17_col1 {\n",
       "  background-color: lightgreen;\n",
       "}\n",
       "</style>\n",
       "<table id=\"T_f4d83\">\n",
       "  <thead>\n",
       "    <tr>\n",
       "      <th class=\"blank level0\" >&nbsp;</th>\n",
       "      <th id=\"T_f4d83_level0_col0\" class=\"col_heading level0 col0\" >Description</th>\n",
       "      <th id=\"T_f4d83_level0_col1\" class=\"col_heading level0 col1\" >Value</th>\n",
       "    </tr>\n",
       "  </thead>\n",
       "  <tbody>\n",
       "    <tr>\n",
       "      <th id=\"T_f4d83_level0_row0\" class=\"row_heading level0 row0\" >0</th>\n",
       "      <td id=\"T_f4d83_row0_col0\" class=\"data row0 col0\" >Session id</td>\n",
       "      <td id=\"T_f4d83_row0_col1\" class=\"data row0 col1\" >1935</td>\n",
       "    </tr>\n",
       "    <tr>\n",
       "      <th id=\"T_f4d83_level0_row1\" class=\"row_heading level0 row1\" >1</th>\n",
       "      <td id=\"T_f4d83_row1_col0\" class=\"data row1 col0\" >Target</td>\n",
       "      <td id=\"T_f4d83_row1_col1\" class=\"data row1 col1\" >ALVO</td>\n",
       "    </tr>\n",
       "    <tr>\n",
       "      <th id=\"T_f4d83_level0_row2\" class=\"row_heading level0 row2\" >2</th>\n",
       "      <td id=\"T_f4d83_row2_col0\" class=\"data row2 col0\" >Target type</td>\n",
       "      <td id=\"T_f4d83_row2_col1\" class=\"data row2 col1\" >Binary</td>\n",
       "    </tr>\n",
       "    <tr>\n",
       "      <th id=\"T_f4d83_level0_row3\" class=\"row_heading level0 row3\" >3</th>\n",
       "      <td id=\"T_f4d83_row3_col0\" class=\"data row3 col0\" >Original data shape</td>\n",
       "      <td id=\"T_f4d83_row3_col1\" class=\"data row3 col1\" >(303, 14)</td>\n",
       "    </tr>\n",
       "    <tr>\n",
       "      <th id=\"T_f4d83_level0_row4\" class=\"row_heading level0 row4\" >4</th>\n",
       "      <td id=\"T_f4d83_row4_col0\" class=\"data row4 col0\" >Transformed data shape</td>\n",
       "      <td id=\"T_f4d83_row4_col1\" class=\"data row4 col1\" >(303, 23)</td>\n",
       "    </tr>\n",
       "    <tr>\n",
       "      <th id=\"T_f4d83_level0_row5\" class=\"row_heading level0 row5\" >5</th>\n",
       "      <td id=\"T_f4d83_row5_col0\" class=\"data row5 col0\" >Transformed train set shape</td>\n",
       "      <td id=\"T_f4d83_row5_col1\" class=\"data row5 col1\" >(196, 23)</td>\n",
       "    </tr>\n",
       "    <tr>\n",
       "      <th id=\"T_f4d83_level0_row6\" class=\"row_heading level0 row6\" >6</th>\n",
       "      <td id=\"T_f4d83_row6_col0\" class=\"data row6 col0\" >Transformed test set shape</td>\n",
       "      <td id=\"T_f4d83_row6_col1\" class=\"data row6 col1\" >(107, 23)</td>\n",
       "    </tr>\n",
       "    <tr>\n",
       "      <th id=\"T_f4d83_level0_row7\" class=\"row_heading level0 row7\" >7</th>\n",
       "      <td id=\"T_f4d83_row7_col0\" class=\"data row7 col0\" >Ordinal features</td>\n",
       "      <td id=\"T_f4d83_row7_col1\" class=\"data row7 col1\" >3</td>\n",
       "    </tr>\n",
       "    <tr>\n",
       "      <th id=\"T_f4d83_level0_row8\" class=\"row_heading level0 row8\" >8</th>\n",
       "      <td id=\"T_f4d83_row8_col0\" class=\"data row8 col0\" >Numeric features</td>\n",
       "      <td id=\"T_f4d83_row8_col1\" class=\"data row8 col1\" >6</td>\n",
       "    </tr>\n",
       "    <tr>\n",
       "      <th id=\"T_f4d83_level0_row9\" class=\"row_heading level0 row9\" >9</th>\n",
       "      <td id=\"T_f4d83_row9_col0\" class=\"data row9 col0\" >Categorical features</td>\n",
       "      <td id=\"T_f4d83_row9_col1\" class=\"data row9 col1\" >7</td>\n",
       "    </tr>\n",
       "    <tr>\n",
       "      <th id=\"T_f4d83_level0_row10\" class=\"row_heading level0 row10\" >10</th>\n",
       "      <td id=\"T_f4d83_row10_col0\" class=\"data row10 col0\" >Rows with missing values</td>\n",
       "      <td id=\"T_f4d83_row10_col1\" class=\"data row10 col1\" >2.0%</td>\n",
       "    </tr>\n",
       "    <tr>\n",
       "      <th id=\"T_f4d83_level0_row11\" class=\"row_heading level0 row11\" >11</th>\n",
       "      <td id=\"T_f4d83_row11_col0\" class=\"data row11 col0\" >Preprocess</td>\n",
       "      <td id=\"T_f4d83_row11_col1\" class=\"data row11 col1\" >True</td>\n",
       "    </tr>\n",
       "    <tr>\n",
       "      <th id=\"T_f4d83_level0_row12\" class=\"row_heading level0 row12\" >12</th>\n",
       "      <td id=\"T_f4d83_row12_col0\" class=\"data row12 col0\" >Imputation type</td>\n",
       "      <td id=\"T_f4d83_row12_col1\" class=\"data row12 col1\" >simple</td>\n",
       "    </tr>\n",
       "    <tr>\n",
       "      <th id=\"T_f4d83_level0_row13\" class=\"row_heading level0 row13\" >13</th>\n",
       "      <td id=\"T_f4d83_row13_col0\" class=\"data row13 col0\" >Numeric imputation</td>\n",
       "      <td id=\"T_f4d83_row13_col1\" class=\"data row13 col1\" >mean</td>\n",
       "    </tr>\n",
       "    <tr>\n",
       "      <th id=\"T_f4d83_level0_row14\" class=\"row_heading level0 row14\" >14</th>\n",
       "      <td id=\"T_f4d83_row14_col0\" class=\"data row14 col0\" >Categorical imputation</td>\n",
       "      <td id=\"T_f4d83_row14_col1\" class=\"data row14 col1\" >mode</td>\n",
       "    </tr>\n",
       "    <tr>\n",
       "      <th id=\"T_f4d83_level0_row15\" class=\"row_heading level0 row15\" >15</th>\n",
       "      <td id=\"T_f4d83_row15_col0\" class=\"data row15 col0\" >Maximum one-hot encoding</td>\n",
       "      <td id=\"T_f4d83_row15_col1\" class=\"data row15 col1\" >25</td>\n",
       "    </tr>\n",
       "    <tr>\n",
       "      <th id=\"T_f4d83_level0_row16\" class=\"row_heading level0 row16\" >16</th>\n",
       "      <td id=\"T_f4d83_row16_col0\" class=\"data row16 col0\" >Encoding method</td>\n",
       "      <td id=\"T_f4d83_row16_col1\" class=\"data row16 col1\" >None</td>\n",
       "    </tr>\n",
       "    <tr>\n",
       "      <th id=\"T_f4d83_level0_row17\" class=\"row_heading level0 row17\" >17</th>\n",
       "      <td id=\"T_f4d83_row17_col0\" class=\"data row17 col0\" >Normalize</td>\n",
       "      <td id=\"T_f4d83_row17_col1\" class=\"data row17 col1\" >True</td>\n",
       "    </tr>\n",
       "    <tr>\n",
       "      <th id=\"T_f4d83_level0_row18\" class=\"row_heading level0 row18\" >18</th>\n",
       "      <td id=\"T_f4d83_row18_col0\" class=\"data row18 col0\" >Normalize method</td>\n",
       "      <td id=\"T_f4d83_row18_col1\" class=\"data row18 col1\" >zscore</td>\n",
       "    </tr>\n",
       "    <tr>\n",
       "      <th id=\"T_f4d83_level0_row19\" class=\"row_heading level0 row19\" >19</th>\n",
       "      <td id=\"T_f4d83_row19_col0\" class=\"data row19 col0\" >Fold Generator</td>\n",
       "      <td id=\"T_f4d83_row19_col1\" class=\"data row19 col1\" >StratifiedKFold</td>\n",
       "    </tr>\n",
       "    <tr>\n",
       "      <th id=\"T_f4d83_level0_row20\" class=\"row_heading level0 row20\" >20</th>\n",
       "      <td id=\"T_f4d83_row20_col0\" class=\"data row20 col0\" >Fold Number</td>\n",
       "      <td id=\"T_f4d83_row20_col1\" class=\"data row20 col1\" >10</td>\n",
       "    </tr>\n",
       "    <tr>\n",
       "      <th id=\"T_f4d83_level0_row21\" class=\"row_heading level0 row21\" >21</th>\n",
       "      <td id=\"T_f4d83_row21_col0\" class=\"data row21 col0\" >CPU Jobs</td>\n",
       "      <td id=\"T_f4d83_row21_col1\" class=\"data row21 col1\" >-1</td>\n",
       "    </tr>\n",
       "    <tr>\n",
       "      <th id=\"T_f4d83_level0_row22\" class=\"row_heading level0 row22\" >22</th>\n",
       "      <td id=\"T_f4d83_row22_col0\" class=\"data row22 col0\" >Use GPU</td>\n",
       "      <td id=\"T_f4d83_row22_col1\" class=\"data row22 col1\" >False</td>\n",
       "    </tr>\n",
       "    <tr>\n",
       "      <th id=\"T_f4d83_level0_row23\" class=\"row_heading level0 row23\" >23</th>\n",
       "      <td id=\"T_f4d83_row23_col0\" class=\"data row23 col0\" >Log Experiment</td>\n",
       "      <td id=\"T_f4d83_row23_col1\" class=\"data row23 col1\" >False</td>\n",
       "    </tr>\n",
       "    <tr>\n",
       "      <th id=\"T_f4d83_level0_row24\" class=\"row_heading level0 row24\" >24</th>\n",
       "      <td id=\"T_f4d83_row24_col0\" class=\"data row24 col0\" >Experiment Name</td>\n",
       "      <td id=\"T_f4d83_row24_col1\" class=\"data row24 col1\" >EXP_01_WANDA_2023</td>\n",
       "    </tr>\n",
       "    <tr>\n",
       "      <th id=\"T_f4d83_level0_row25\" class=\"row_heading level0 row25\" >25</th>\n",
       "      <td id=\"T_f4d83_row25_col0\" class=\"data row25 col0\" >USI</td>\n",
       "      <td id=\"T_f4d83_row25_col1\" class=\"data row25 col1\" >13f2</td>\n",
       "    </tr>\n",
       "  </tbody>\n",
       "</table>\n"
      ],
      "text/plain": [
       "<pandas.io.formats.style.Styler at 0x1f119490070>"
      ]
     },
     "metadata": {},
     "output_type": "display_data"
    }
   ],
   "source": [
    "exp = setup(data = df, target= \"ALVO\", normalize= True, experiment_name = \"EXP_01_WANDA_2023\", session_id= 1935, train_size = 0.65)"
   ]
  },
  {
   "cell_type": "markdown",
   "id": "59a80287",
   "metadata": {},
   "source": [
    "### Recomendações \n",
    "\n",
    "* Recomenda-se que a variável categórica esteja no tipo object;\n",
    "* Não colocar o nome das categorias da variável qualitativa como número. Por exemplo, dor no peito: 1, 2, 3 e 4.\n",
    "\n",
    "### Procedimentos realizados\n",
    "* Normalizar as variáveis numéricas (tipo normal-padrão):  \n",
    "    * z = (x - u) /s;\n",
    "* Base de treino: 65% das observações;\n",
    "* Base de teste: 35% das observações;\n",
    "* Transformação das variáveis categóricas em binárias (**one-hot-encoding**)."
   ]
  },
  {
   "cell_type": "markdown",
   "id": "210d6996",
   "metadata": {},
   "source": [
    "### Objetos criados\n",
    "\n",
    "Configuração dos objetos criados após o pré-processamento."
   ]
  },
  {
   "cell_type": "markdown",
   "id": "0e33c69d",
   "metadata": {},
   "source": [
    "**Base de treino**"
   ]
  },
  {
   "cell_type": "code",
   "execution_count": 13,
   "id": "4e418ddd",
   "metadata": {},
   "outputs": [
    {
     "data": {
      "text/plain": [
       "196"
      ]
     },
     "execution_count": 13,
     "metadata": {},
     "output_type": "execute_result"
    }
   ],
   "source": [
    "#Base de treino\n",
    "df_treino = get_config('train')\n",
    "#Total de observações\n",
    "df_treino.shape[0] #196 "
   ]
  },
  {
   "cell_type": "code",
   "execution_count": 14,
   "id": "654ce615",
   "metadata": {},
   "outputs": [
    {
     "data": {
      "text/html": [
       "<div>\n",
       "<style scoped>\n",
       "    .dataframe tbody tr th:only-of-type {\n",
       "        vertical-align: middle;\n",
       "    }\n",
       "\n",
       "    .dataframe tbody tr th {\n",
       "        vertical-align: top;\n",
       "    }\n",
       "\n",
       "    .dataframe thead th {\n",
       "        text-align: right;\n",
       "    }\n",
       "</style>\n",
       "<table border=\"1\" class=\"dataframe\">\n",
       "  <thead>\n",
       "    <tr style=\"text-align: right;\">\n",
       "      <th></th>\n",
       "      <th>Age</th>\n",
       "      <th>Sex</th>\n",
       "      <th>Chest_pain</th>\n",
       "      <th>Resting_blood_pressure</th>\n",
       "      <th>Serum_cholestrol</th>\n",
       "      <th>Fasting_blood_sugar</th>\n",
       "      <th>Resting_ECG</th>\n",
       "      <th>Max_heart_rate_achieved</th>\n",
       "      <th>Exercise_induced_angina</th>\n",
       "      <th>ST_depression</th>\n",
       "      <th>Peak_exercise_ST_segment</th>\n",
       "      <th>Number_of_major_vessels</th>\n",
       "      <th>Thal</th>\n",
       "      <th>ALVO</th>\n",
       "    </tr>\n",
       "  </thead>\n",
       "  <tbody>\n",
       "    <tr>\n",
       "      <th>0</th>\n",
       "      <td>49</td>\n",
       "      <td>MALE</td>\n",
       "      <td>LEVEL_3</td>\n",
       "      <td>120</td>\n",
       "      <td>188</td>\n",
       "      <td>LOW</td>\n",
       "      <td>LEVEL_0</td>\n",
       "      <td>139</td>\n",
       "      <td>NO_PAIN</td>\n",
       "      <td>2.0</td>\n",
       "      <td>LEVEL_2</td>\n",
       "      <td>3.0</td>\n",
       "      <td>LEVEL_7</td>\n",
       "      <td>1</td>\n",
       "    </tr>\n",
       "    <tr>\n",
       "      <th>1</th>\n",
       "      <td>39</td>\n",
       "      <td>FEMALE</td>\n",
       "      <td>LEVEL_3</td>\n",
       "      <td>138</td>\n",
       "      <td>220</td>\n",
       "      <td>LOW</td>\n",
       "      <td>LEVEL_0</td>\n",
       "      <td>152</td>\n",
       "      <td>NO_PAIN</td>\n",
       "      <td>0.0</td>\n",
       "      <td>LEVEL_2</td>\n",
       "      <td>0.0</td>\n",
       "      <td>LEVEL_3</td>\n",
       "      <td>0</td>\n",
       "    </tr>\n",
       "    <tr>\n",
       "      <th>2</th>\n",
       "      <td>52</td>\n",
       "      <td>MALE</td>\n",
       "      <td>LEVEL_4</td>\n",
       "      <td>125</td>\n",
       "      <td>212</td>\n",
       "      <td>LOW</td>\n",
       "      <td>LEVEL_0</td>\n",
       "      <td>168</td>\n",
       "      <td>NO_PAIN</td>\n",
       "      <td>1.0</td>\n",
       "      <td>LEVEL_1</td>\n",
       "      <td>2.0</td>\n",
       "      <td>LEVEL_7</td>\n",
       "      <td>1</td>\n",
       "    </tr>\n",
       "    <tr>\n",
       "      <th>3</th>\n",
       "      <td>41</td>\n",
       "      <td>MALE</td>\n",
       "      <td>LEVEL_4</td>\n",
       "      <td>110</td>\n",
       "      <td>172</td>\n",
       "      <td>LOW</td>\n",
       "      <td>LEVEL_2</td>\n",
       "      <td>158</td>\n",
       "      <td>NO_PAIN</td>\n",
       "      <td>0.0</td>\n",
       "      <td>LEVEL_1</td>\n",
       "      <td>0.0</td>\n",
       "      <td>LEVEL_7</td>\n",
       "      <td>1</td>\n",
       "    </tr>\n",
       "  </tbody>\n",
       "</table>\n",
       "</div>"
      ],
      "text/plain": [
       "   Age     Sex Chest_pain  Resting_blood_pressure  Serum_cholestrol  \\\n",
       "0   49    MALE    LEVEL_3                     120               188   \n",
       "1   39  FEMALE    LEVEL_3                     138               220   \n",
       "2   52    MALE    LEVEL_4                     125               212   \n",
       "3   41    MALE    LEVEL_4                     110               172   \n",
       "\n",
       "  Fasting_blood_sugar Resting_ECG  Max_heart_rate_achieved  \\\n",
       "0                 LOW     LEVEL_0                      139   \n",
       "1                 LOW     LEVEL_0                      152   \n",
       "2                 LOW     LEVEL_0                      168   \n",
       "3                 LOW     LEVEL_2                      158   \n",
       "\n",
       "  Exercise_induced_angina  ST_depression Peak_exercise_ST_segment  \\\n",
       "0                 NO_PAIN            2.0                  LEVEL_2   \n",
       "1                 NO_PAIN            0.0                  LEVEL_2   \n",
       "2                 NO_PAIN            1.0                  LEVEL_1   \n",
       "3                 NO_PAIN            0.0                  LEVEL_1   \n",
       "\n",
       "   Number_of_major_vessels     Thal  ALVO  \n",
       "0                      3.0  LEVEL_7     1  \n",
       "1                      0.0  LEVEL_3     0  \n",
       "2                      2.0  LEVEL_7     1  \n",
       "3                      0.0  LEVEL_7     1  "
      ]
     },
     "execution_count": 14,
     "metadata": {},
     "output_type": "execute_result"
    }
   ],
   "source": [
    "#Visualização\n",
    "df_treino.head(4) "
   ]
  },
  {
   "cell_type": "code",
   "execution_count": 15,
   "id": "b6da68d6",
   "metadata": {},
   "outputs": [
    {
     "data": {
      "text/plain": [
       "0    54.0\n",
       "1    46.0\n",
       "Name: ALVO, dtype: float64"
      ]
     },
     "execution_count": 15,
     "metadata": {},
     "output_type": "execute_result"
    }
   ],
   "source": [
    "#Frequência do ALVO - base de treino\n",
    "round(100*(df_treino['ALVO'].value_counts())/df_treino['ALVO'].shape[0],0) #Taxa do ALVO 46%"
   ]
  },
  {
   "cell_type": "code",
   "execution_count": 16,
   "id": "fb4a60dc",
   "metadata": {},
   "outputs": [],
   "source": [
    "#Salvar a base de treino\n",
    "df_treino.to_csv('base_treino.csv', header=True, index=False, sep=';')"
   ]
  },
  {
   "cell_type": "markdown",
   "id": "33056cea",
   "metadata": {},
   "source": [
    "**Base de teste**"
   ]
  },
  {
   "cell_type": "code",
   "execution_count": 17,
   "id": "7ddff2de",
   "metadata": {},
   "outputs": [
    {
     "data": {
      "text/plain": [
       "107"
      ]
     },
     "execution_count": 17,
     "metadata": {},
     "output_type": "execute_result"
    }
   ],
   "source": [
    "#Base de teste\n",
    "df_teste = get_config('test')\n",
    "#Total de observações\n",
    "df_teste.shape[0] #107 "
   ]
  },
  {
   "cell_type": "code",
   "execution_count": 18,
   "id": "20915534",
   "metadata": {},
   "outputs": [
    {
     "data": {
      "text/html": [
       "<div>\n",
       "<style scoped>\n",
       "    .dataframe tbody tr th:only-of-type {\n",
       "        vertical-align: middle;\n",
       "    }\n",
       "\n",
       "    .dataframe tbody tr th {\n",
       "        vertical-align: top;\n",
       "    }\n",
       "\n",
       "    .dataframe thead th {\n",
       "        text-align: right;\n",
       "    }\n",
       "</style>\n",
       "<table border=\"1\" class=\"dataframe\">\n",
       "  <thead>\n",
       "    <tr style=\"text-align: right;\">\n",
       "      <th></th>\n",
       "      <th>Age</th>\n",
       "      <th>Sex</th>\n",
       "      <th>Chest_pain</th>\n",
       "      <th>Resting_blood_pressure</th>\n",
       "      <th>Serum_cholestrol</th>\n",
       "      <th>Fasting_blood_sugar</th>\n",
       "      <th>Resting_ECG</th>\n",
       "      <th>Max_heart_rate_achieved</th>\n",
       "      <th>Exercise_induced_angina</th>\n",
       "      <th>ST_depression</th>\n",
       "      <th>Peak_exercise_ST_segment</th>\n",
       "      <th>Number_of_major_vessels</th>\n",
       "      <th>Thal</th>\n",
       "      <th>ALVO</th>\n",
       "    </tr>\n",
       "  </thead>\n",
       "  <tbody>\n",
       "    <tr>\n",
       "      <th>196</th>\n",
       "      <td>68</td>\n",
       "      <td>MALE</td>\n",
       "      <td>LEVEL_3</td>\n",
       "      <td>118</td>\n",
       "      <td>277</td>\n",
       "      <td>LOW</td>\n",
       "      <td>LEVEL_0</td>\n",
       "      <td>151</td>\n",
       "      <td>NO_PAIN</td>\n",
       "      <td>1.0</td>\n",
       "      <td>LEVEL_1</td>\n",
       "      <td>1.0</td>\n",
       "      <td>LEVEL_7</td>\n",
       "      <td>0</td>\n",
       "    </tr>\n",
       "    <tr>\n",
       "      <th>197</th>\n",
       "      <td>62</td>\n",
       "      <td>FEMALE</td>\n",
       "      <td>LEVEL_4</td>\n",
       "      <td>140</td>\n",
       "      <td>394</td>\n",
       "      <td>LOW</td>\n",
       "      <td>LEVEL_2</td>\n",
       "      <td>157</td>\n",
       "      <td>NO_PAIN</td>\n",
       "      <td>1.2</td>\n",
       "      <td>LEVEL_2</td>\n",
       "      <td>0.0</td>\n",
       "      <td>LEVEL_3</td>\n",
       "      <td>0</td>\n",
       "    </tr>\n",
       "    <tr>\n",
       "      <th>198</th>\n",
       "      <td>61</td>\n",
       "      <td>FEMALE</td>\n",
       "      <td>LEVEL_4</td>\n",
       "      <td>130</td>\n",
       "      <td>330</td>\n",
       "      <td>LOW</td>\n",
       "      <td>LEVEL_2</td>\n",
       "      <td>169</td>\n",
       "      <td>NO_PAIN</td>\n",
       "      <td>0.0</td>\n",
       "      <td>LEVEL_1</td>\n",
       "      <td>0.0</td>\n",
       "      <td>LEVEL_3</td>\n",
       "      <td>1</td>\n",
       "    </tr>\n",
       "    <tr>\n",
       "      <th>199</th>\n",
       "      <td>38</td>\n",
       "      <td>MALE</td>\n",
       "      <td>LEVEL_3</td>\n",
       "      <td>138</td>\n",
       "      <td>175</td>\n",
       "      <td>LOW</td>\n",
       "      <td>LEVEL_0</td>\n",
       "      <td>173</td>\n",
       "      <td>NO_PAIN</td>\n",
       "      <td>0.0</td>\n",
       "      <td>LEVEL_1</td>\n",
       "      <td>NaN</td>\n",
       "      <td>LEVEL_3</td>\n",
       "      <td>0</td>\n",
       "    </tr>\n",
       "  </tbody>\n",
       "</table>\n",
       "</div>"
      ],
      "text/plain": [
       "     Age     Sex Chest_pain  Resting_blood_pressure  Serum_cholestrol  \\\n",
       "196   68    MALE    LEVEL_3                     118               277   \n",
       "197   62  FEMALE    LEVEL_4                     140               394   \n",
       "198   61  FEMALE    LEVEL_4                     130               330   \n",
       "199   38    MALE    LEVEL_3                     138               175   \n",
       "\n",
       "    Fasting_blood_sugar Resting_ECG  Max_heart_rate_achieved  \\\n",
       "196                 LOW     LEVEL_0                      151   \n",
       "197                 LOW     LEVEL_2                      157   \n",
       "198                 LOW     LEVEL_2                      169   \n",
       "199                 LOW     LEVEL_0                      173   \n",
       "\n",
       "    Exercise_induced_angina  ST_depression Peak_exercise_ST_segment  \\\n",
       "196                 NO_PAIN            1.0                  LEVEL_1   \n",
       "197                 NO_PAIN            1.2                  LEVEL_2   \n",
       "198                 NO_PAIN            0.0                  LEVEL_1   \n",
       "199                 NO_PAIN            0.0                  LEVEL_1   \n",
       "\n",
       "     Number_of_major_vessels     Thal  ALVO  \n",
       "196                      1.0  LEVEL_7     0  \n",
       "197                      0.0  LEVEL_3     0  \n",
       "198                      0.0  LEVEL_3     1  \n",
       "199                      NaN  LEVEL_3     0  "
      ]
     },
     "execution_count": 18,
     "metadata": {},
     "output_type": "execute_result"
    }
   ],
   "source": [
    "#Visualização\n",
    "df_teste.head(4)"
   ]
  },
  {
   "cell_type": "code",
   "execution_count": 19,
   "id": "099cf083",
   "metadata": {},
   "outputs": [
    {
     "data": {
      "text/plain": [
       "0    54.0\n",
       "1    46.0\n",
       "Name: ALVO, dtype: float64"
      ]
     },
     "execution_count": 19,
     "metadata": {},
     "output_type": "execute_result"
    }
   ],
   "source": [
    "#Frequência do ALVO - base de teste\n",
    "round(100*(df_teste['ALVO'].value_counts())/df_teste['ALVO'].shape[0],0) #Taxa do ALVO 46%"
   ]
  },
  {
   "cell_type": "code",
   "execution_count": 20,
   "id": "c9b530e0",
   "metadata": {},
   "outputs": [],
   "source": [
    "#Salvar a base de teste\n",
    "df_teste.to_csv('base_teste.csv', header=True, index=False, sep=';')"
   ]
  },
  {
   "cell_type": "markdown",
   "id": "33581088",
   "metadata": {},
   "source": [
    "**Vsiualização dos dados transformados**"
   ]
  },
  {
   "cell_type": "code",
   "execution_count": 21,
   "id": "8a620e24",
   "metadata": {},
   "outputs": [
    {
     "data": {
      "text/html": [
       "<div>\n",
       "<style scoped>\n",
       "    .dataframe tbody tr th:only-of-type {\n",
       "        vertical-align: middle;\n",
       "    }\n",
       "\n",
       "    .dataframe tbody tr th {\n",
       "        vertical-align: top;\n",
       "    }\n",
       "\n",
       "    .dataframe thead th {\n",
       "        text-align: right;\n",
       "    }\n",
       "</style>\n",
       "<table border=\"1\" class=\"dataframe\">\n",
       "  <thead>\n",
       "    <tr style=\"text-align: right;\">\n",
       "      <th></th>\n",
       "      <th>Age</th>\n",
       "      <th>Sex</th>\n",
       "      <th>Chest_pain_LEVEL_3</th>\n",
       "      <th>Chest_pain_LEVEL_4</th>\n",
       "      <th>Chest_pain_LEVEL_1</th>\n",
       "      <th>Chest_pain_LEVEL_2</th>\n",
       "      <th>Resting_blood_pressure</th>\n",
       "      <th>Serum_cholestrol</th>\n",
       "      <th>Fasting_blood_sugar</th>\n",
       "      <th>Resting_ECG_LEVEL_0</th>\n",
       "      <th>...</th>\n",
       "      <th>Max_heart_rate_achieved</th>\n",
       "      <th>Exercise_induced_angina</th>\n",
       "      <th>ST_depression</th>\n",
       "      <th>Peak_exercise_ST_segment_LEVEL_2</th>\n",
       "      <th>Peak_exercise_ST_segment_LEVEL_1</th>\n",
       "      <th>Peak_exercise_ST_segment_LEVEL_3</th>\n",
       "      <th>Number_of_major_vessels</th>\n",
       "      <th>Thal_LEVEL_7</th>\n",
       "      <th>Thal_LEVEL_3</th>\n",
       "      <th>Thal_LEVEL_6</th>\n",
       "    </tr>\n",
       "  </thead>\n",
       "  <tbody>\n",
       "    <tr>\n",
       "      <th>0</th>\n",
       "      <td>-0.631355</td>\n",
       "      <td>0.704403</td>\n",
       "      <td>1.621613</td>\n",
       "      <td>-0.940540</td>\n",
       "      <td>-0.298142</td>\n",
       "      <td>-0.458123</td>\n",
       "      <td>-0.643981</td>\n",
       "      <td>-1.071874</td>\n",
       "      <td>0.441726</td>\n",
       "      <td>1.052391</td>\n",
       "      <td>...</td>\n",
       "      <td>-0.422276</td>\n",
       "      <td>-0.728869</td>\n",
       "      <td>0.758256</td>\n",
       "      <td>1.031095</td>\n",
       "      <td>-0.902671</td>\n",
       "      <td>-0.26653</td>\n",
       "      <td>2.610225</td>\n",
       "      <td>1.256562</td>\n",
       "      <td>-1.119318</td>\n",
       "      <td>-0.243843</td>\n",
       "    </tr>\n",
       "    <tr>\n",
       "      <th>1</th>\n",
       "      <td>-1.804298</td>\n",
       "      <td>-1.419642</td>\n",
       "      <td>1.621613</td>\n",
       "      <td>-0.940540</td>\n",
       "      <td>-0.298142</td>\n",
       "      <td>-0.458123</td>\n",
       "      <td>0.383128</td>\n",
       "      <td>-0.477305</td>\n",
       "      <td>0.441726</td>\n",
       "      <td>1.052391</td>\n",
       "      <td>...</td>\n",
       "      <td>0.150652</td>\n",
       "      <td>-0.728869</td>\n",
       "      <td>-0.910673</td>\n",
       "      <td>1.031095</td>\n",
       "      <td>-0.902671</td>\n",
       "      <td>-0.26653</td>\n",
       "      <td>-0.735922</td>\n",
       "      <td>-0.795822</td>\n",
       "      <td>0.893401</td>\n",
       "      <td>-0.243843</td>\n",
       "    </tr>\n",
       "    <tr>\n",
       "      <th>2</th>\n",
       "      <td>-0.279472</td>\n",
       "      <td>0.704403</td>\n",
       "      <td>-0.616670</td>\n",
       "      <td>1.063219</td>\n",
       "      <td>-0.298142</td>\n",
       "      <td>-0.458123</td>\n",
       "      <td>-0.358673</td>\n",
       "      <td>-0.625947</td>\n",
       "      <td>0.441726</td>\n",
       "      <td>1.052391</td>\n",
       "      <td>...</td>\n",
       "      <td>0.855796</td>\n",
       "      <td>-0.728869</td>\n",
       "      <td>-0.076209</td>\n",
       "      <td>-0.969842</td>\n",
       "      <td>1.107823</td>\n",
       "      <td>-0.26653</td>\n",
       "      <td>1.494842</td>\n",
       "      <td>1.256562</td>\n",
       "      <td>-1.119318</td>\n",
       "      <td>-0.243843</td>\n",
       "    </tr>\n",
       "    <tr>\n",
       "      <th>3</th>\n",
       "      <td>-1.569709</td>\n",
       "      <td>0.704403</td>\n",
       "      <td>-0.616670</td>\n",
       "      <td>1.063219</td>\n",
       "      <td>-0.298142</td>\n",
       "      <td>-0.458123</td>\n",
       "      <td>-1.214598</td>\n",
       "      <td>-1.369159</td>\n",
       "      <td>0.441726</td>\n",
       "      <td>-0.950217</td>\n",
       "      <td>...</td>\n",
       "      <td>0.415081</td>\n",
       "      <td>-0.728869</td>\n",
       "      <td>-0.910673</td>\n",
       "      <td>-0.969842</td>\n",
       "      <td>1.107823</td>\n",
       "      <td>-0.26653</td>\n",
       "      <td>-0.735922</td>\n",
       "      <td>1.256562</td>\n",
       "      <td>-1.119318</td>\n",
       "      <td>-0.243843</td>\n",
       "    </tr>\n",
       "  </tbody>\n",
       "</table>\n",
       "<p>4 rows × 22 columns</p>\n",
       "</div>"
      ],
      "text/plain": [
       "        Age       Sex  Chest_pain_LEVEL_3  Chest_pain_LEVEL_4  \\\n",
       "0 -0.631355  0.704403            1.621613           -0.940540   \n",
       "1 -1.804298 -1.419642            1.621613           -0.940540   \n",
       "2 -0.279472  0.704403           -0.616670            1.063219   \n",
       "3 -1.569709  0.704403           -0.616670            1.063219   \n",
       "\n",
       "   Chest_pain_LEVEL_1  Chest_pain_LEVEL_2  Resting_blood_pressure  \\\n",
       "0           -0.298142           -0.458123               -0.643981   \n",
       "1           -0.298142           -0.458123                0.383128   \n",
       "2           -0.298142           -0.458123               -0.358673   \n",
       "3           -0.298142           -0.458123               -1.214598   \n",
       "\n",
       "   Serum_cholestrol  Fasting_blood_sugar  Resting_ECG_LEVEL_0  ...  \\\n",
       "0         -1.071874             0.441726             1.052391  ...   \n",
       "1         -0.477305             0.441726             1.052391  ...   \n",
       "2         -0.625947             0.441726             1.052391  ...   \n",
       "3         -1.369159             0.441726            -0.950217  ...   \n",
       "\n",
       "   Max_heart_rate_achieved  Exercise_induced_angina  ST_depression  \\\n",
       "0                -0.422276                -0.728869       0.758256   \n",
       "1                 0.150652                -0.728869      -0.910673   \n",
       "2                 0.855796                -0.728869      -0.076209   \n",
       "3                 0.415081                -0.728869      -0.910673   \n",
       "\n",
       "   Peak_exercise_ST_segment_LEVEL_2  Peak_exercise_ST_segment_LEVEL_1  \\\n",
       "0                          1.031095                         -0.902671   \n",
       "1                          1.031095                         -0.902671   \n",
       "2                         -0.969842                          1.107823   \n",
       "3                         -0.969842                          1.107823   \n",
       "\n",
       "   Peak_exercise_ST_segment_LEVEL_3  Number_of_major_vessels  Thal_LEVEL_7  \\\n",
       "0                          -0.26653                 2.610225      1.256562   \n",
       "1                          -0.26653                -0.735922     -0.795822   \n",
       "2                          -0.26653                 1.494842      1.256562   \n",
       "3                          -0.26653                -0.735922      1.256562   \n",
       "\n",
       "   Thal_LEVEL_3  Thal_LEVEL_6  \n",
       "0     -1.119318     -0.243843  \n",
       "1      0.893401     -0.243843  \n",
       "2     -1.119318     -0.243843  \n",
       "3     -1.119318     -0.243843  \n",
       "\n",
       "[4 rows x 22 columns]"
      ]
     },
     "execution_count": 21,
     "metadata": {},
     "output_type": "execute_result"
    }
   ],
   "source": [
    "#Variáveis explicativas transformadas da base de treino\n",
    "x_treino_transformada = get_config('X_train_transformed')\n",
    "x_treino_transformada.head(4)"
   ]
  },
  {
   "cell_type": "markdown",
   "id": "b86f1a7d",
   "metadata": {},
   "source": [
    "## 2. Compare models\n",
    "\n",
    "Avalia o desempenho dos algoritmos disponíveis considerando os dados da base treino. Simplifica o processo de escolha do melhor método para o conjunto de dados.\n",
    "\n",
    "**Nota**: Melhor método consiste no método que apresenta os melhores resultados nas métricas de performance."
   ]
  },
  {
   "cell_type": "code",
   "execution_count": 22,
   "id": "52f21f84",
   "metadata": {},
   "outputs": [
    {
     "data": {
      "text/html": [],
      "text/plain": [
       "<IPython.core.display.HTML object>"
      ]
     },
     "metadata": {},
     "output_type": "display_data"
    },
    {
     "data": {
      "text/html": [
       "<style type=\"text/css\">\n",
       "#T_39876 th {\n",
       "  text-align: left;\n",
       "}\n",
       "#T_39876_row0_col0, #T_39876_row0_col2, #T_39876_row0_col3, #T_39876_row0_col4, #T_39876_row0_col5, #T_39876_row0_col6, #T_39876_row1_col0, #T_39876_row1_col2, #T_39876_row1_col3, #T_39876_row1_col4, #T_39876_row1_col5, #T_39876_row1_col7, #T_39876_row2_col0, #T_39876_row2_col1, #T_39876_row2_col4, #T_39876_row2_col6, #T_39876_row2_col7, #T_39876_row3_col0, #T_39876_row3_col1, #T_39876_row3_col2, #T_39876_row3_col3, #T_39876_row3_col5, #T_39876_row3_col6, #T_39876_row3_col7, #T_39876_row4_col0, #T_39876_row4_col1, #T_39876_row4_col2, #T_39876_row4_col3, #T_39876_row4_col4, #T_39876_row4_col5, #T_39876_row4_col6, #T_39876_row4_col7, #T_39876_row5_col0, #T_39876_row5_col1, #T_39876_row5_col2, #T_39876_row5_col3, #T_39876_row5_col4, #T_39876_row5_col5, #T_39876_row5_col6, #T_39876_row5_col7, #T_39876_row6_col0, #T_39876_row6_col1, #T_39876_row6_col2, #T_39876_row6_col3, #T_39876_row6_col4, #T_39876_row6_col5, #T_39876_row6_col6, #T_39876_row6_col7, #T_39876_row7_col0, #T_39876_row7_col1, #T_39876_row7_col2, #T_39876_row7_col3, #T_39876_row7_col4, #T_39876_row7_col5, #T_39876_row7_col6, #T_39876_row7_col7, #T_39876_row8_col0, #T_39876_row8_col1, #T_39876_row8_col2, #T_39876_row8_col3, #T_39876_row8_col4, #T_39876_row8_col5, #T_39876_row8_col6, #T_39876_row8_col7, #T_39876_row9_col0, #T_39876_row9_col1, #T_39876_row9_col2, #T_39876_row9_col3, #T_39876_row9_col4, #T_39876_row9_col5, #T_39876_row9_col6, #T_39876_row9_col7, #T_39876_row10_col0, #T_39876_row10_col1, #T_39876_row10_col2, #T_39876_row10_col3, #T_39876_row10_col4, #T_39876_row10_col5, #T_39876_row10_col6, #T_39876_row10_col7, #T_39876_row11_col0, #T_39876_row11_col1, #T_39876_row11_col2, #T_39876_row11_col3, #T_39876_row11_col4, #T_39876_row11_col5, #T_39876_row11_col6, #T_39876_row11_col7, #T_39876_row12_col0, #T_39876_row12_col1, #T_39876_row12_col2, #T_39876_row12_col3, #T_39876_row12_col4, #T_39876_row12_col5, #T_39876_row12_col6, #T_39876_row12_col7, #T_39876_row13_col0, #T_39876_row13_col1, #T_39876_row13_col2, #T_39876_row13_col3, #T_39876_row13_col4, #T_39876_row13_col5, #T_39876_row13_col6, #T_39876_row13_col7, #T_39876_row14_col0, #T_39876_row14_col1, #T_39876_row14_col2, #T_39876_row14_col3, #T_39876_row14_col4, #T_39876_row14_col5, #T_39876_row14_col6, #T_39876_row14_col7, #T_39876_row15_col0, #T_39876_row15_col1, #T_39876_row15_col2, #T_39876_row15_col3, #T_39876_row15_col4, #T_39876_row15_col5, #T_39876_row15_col6, #T_39876_row15_col7 {\n",
       "  text-align: left;\n",
       "}\n",
       "#T_39876_row0_col1, #T_39876_row0_col7, #T_39876_row1_col1, #T_39876_row1_col6, #T_39876_row2_col2, #T_39876_row2_col3, #T_39876_row2_col5, #T_39876_row3_col4 {\n",
       "  text-align: left;\n",
       "  background-color: yellow;\n",
       "}\n",
       "#T_39876_row0_col8, #T_39876_row1_col8, #T_39876_row2_col8, #T_39876_row3_col8, #T_39876_row4_col8, #T_39876_row5_col8, #T_39876_row6_col8, #T_39876_row7_col8, #T_39876_row8_col8, #T_39876_row9_col8, #T_39876_row11_col8, #T_39876_row12_col8, #T_39876_row13_col8, #T_39876_row14_col8, #T_39876_row15_col8 {\n",
       "  text-align: left;\n",
       "  background-color: lightgrey;\n",
       "}\n",
       "#T_39876_row10_col8 {\n",
       "  text-align: left;\n",
       "  background-color: yellow;\n",
       "  background-color: lightgrey;\n",
       "}\n",
       "</style>\n",
       "<table id=\"T_39876\">\n",
       "  <thead>\n",
       "    <tr>\n",
       "      <th class=\"blank level0\" >&nbsp;</th>\n",
       "      <th id=\"T_39876_level0_col0\" class=\"col_heading level0 col0\" >Model</th>\n",
       "      <th id=\"T_39876_level0_col1\" class=\"col_heading level0 col1\" >Accuracy</th>\n",
       "      <th id=\"T_39876_level0_col2\" class=\"col_heading level0 col2\" >AUC</th>\n",
       "      <th id=\"T_39876_level0_col3\" class=\"col_heading level0 col3\" >Recall</th>\n",
       "      <th id=\"T_39876_level0_col4\" class=\"col_heading level0 col4\" >Prec.</th>\n",
       "      <th id=\"T_39876_level0_col5\" class=\"col_heading level0 col5\" >F1</th>\n",
       "      <th id=\"T_39876_level0_col6\" class=\"col_heading level0 col6\" >Kappa</th>\n",
       "      <th id=\"T_39876_level0_col7\" class=\"col_heading level0 col7\" >MCC</th>\n",
       "      <th id=\"T_39876_level0_col8\" class=\"col_heading level0 col8\" >TT (Sec)</th>\n",
       "    </tr>\n",
       "  </thead>\n",
       "  <tbody>\n",
       "    <tr>\n",
       "      <th id=\"T_39876_level0_row0\" class=\"row_heading level0 row0\" >rf</th>\n",
       "      <td id=\"T_39876_row0_col0\" class=\"data row0 col0\" >Random Forest Classifier</td>\n",
       "      <td id=\"T_39876_row0_col1\" class=\"data row0 col1\" >0.8268</td>\n",
       "      <td id=\"T_39876_row0_col2\" class=\"data row0 col2\" >0.9095</td>\n",
       "      <td id=\"T_39876_row0_col3\" class=\"data row0 col3\" >0.7444</td>\n",
       "      <td id=\"T_39876_row0_col4\" class=\"data row0 col4\" >0.8628</td>\n",
       "      <td id=\"T_39876_row0_col5\" class=\"data row0 col5\" >0.7942</td>\n",
       "      <td id=\"T_39876_row0_col6\" class=\"data row0 col6\" >0.6465</td>\n",
       "      <td id=\"T_39876_row0_col7\" class=\"data row0 col7\" >0.6579</td>\n",
       "      <td id=\"T_39876_row0_col8\" class=\"data row0 col8\" >0.5630</td>\n",
       "    </tr>\n",
       "    <tr>\n",
       "      <th id=\"T_39876_level0_row1\" class=\"row_heading level0 row1\" >catboost</th>\n",
       "      <td id=\"T_39876_row1_col0\" class=\"data row1 col0\" >CatBoost Classifier</td>\n",
       "      <td id=\"T_39876_row1_col1\" class=\"data row1 col1\" >0.8268</td>\n",
       "      <td id=\"T_39876_row1_col2\" class=\"data row1 col2\" >0.9060</td>\n",
       "      <td id=\"T_39876_row1_col3\" class=\"data row1 col3\" >0.7667</td>\n",
       "      <td id=\"T_39876_row1_col4\" class=\"data row1 col4\" >0.8488</td>\n",
       "      <td id=\"T_39876_row1_col5\" class=\"data row1 col5\" >0.8009</td>\n",
       "      <td id=\"T_39876_row1_col6\" class=\"data row1 col6\" >0.6481</td>\n",
       "      <td id=\"T_39876_row1_col7\" class=\"data row1 col7\" >0.6565</td>\n",
       "      <td id=\"T_39876_row1_col8\" class=\"data row1 col8\" >0.3450</td>\n",
       "    </tr>\n",
       "    <tr>\n",
       "      <th id=\"T_39876_level0_row2\" class=\"row_heading level0 row2\" >xgboost</th>\n",
       "      <td id=\"T_39876_row2_col0\" class=\"data row2 col0\" >Extreme Gradient Boosting</td>\n",
       "      <td id=\"T_39876_row2_col1\" class=\"data row2 col1\" >0.8221</td>\n",
       "      <td id=\"T_39876_row2_col2\" class=\"data row2 col2\" >0.9171</td>\n",
       "      <td id=\"T_39876_row2_col3\" class=\"data row2 col3\" >0.8111</td>\n",
       "      <td id=\"T_39876_row2_col4\" class=\"data row2 col4\" >0.8075</td>\n",
       "      <td id=\"T_39876_row2_col5\" class=\"data row2 col5\" >0.8061</td>\n",
       "      <td id=\"T_39876_row2_col6\" class=\"data row2 col6\" >0.6411</td>\n",
       "      <td id=\"T_39876_row2_col7\" class=\"data row2 col7\" >0.6459</td>\n",
       "      <td id=\"T_39876_row2_col8\" class=\"data row2 col8\" >0.2650</td>\n",
       "    </tr>\n",
       "    <tr>\n",
       "      <th id=\"T_39876_level0_row3\" class=\"row_heading level0 row3\" >ridge</th>\n",
       "      <td id=\"T_39876_row3_col0\" class=\"data row3 col0\" >Ridge Classifier</td>\n",
       "      <td id=\"T_39876_row3_col1\" class=\"data row3 col1\" >0.8208</td>\n",
       "      <td id=\"T_39876_row3_col2\" class=\"data row3 col2\" >0.0000</td>\n",
       "      <td id=\"T_39876_row3_col3\" class=\"data row3 col3\" >0.7444</td>\n",
       "      <td id=\"T_39876_row3_col4\" class=\"data row3 col4\" >0.8704</td>\n",
       "      <td id=\"T_39876_row3_col5\" class=\"data row3 col5\" >0.7903</td>\n",
       "      <td id=\"T_39876_row3_col6\" class=\"data row3 col6\" >0.6351</td>\n",
       "      <td id=\"T_39876_row3_col7\" class=\"data row3 col7\" >0.6521</td>\n",
       "      <td id=\"T_39876_row3_col8\" class=\"data row3 col8\" >0.2020</td>\n",
       "    </tr>\n",
       "    <tr>\n",
       "      <th id=\"T_39876_level0_row4\" class=\"row_heading level0 row4\" >lda</th>\n",
       "      <td id=\"T_39876_row4_col0\" class=\"data row4 col0\" >Linear Discriminant Analysis</td>\n",
       "      <td id=\"T_39876_row4_col1\" class=\"data row4 col1\" >0.8155</td>\n",
       "      <td id=\"T_39876_row4_col2\" class=\"data row4 col2\" >0.9015</td>\n",
       "      <td id=\"T_39876_row4_col3\" class=\"data row4 col3\" >0.7444</td>\n",
       "      <td id=\"T_39876_row4_col4\" class=\"data row4 col4\" >0.8638</td>\n",
       "      <td id=\"T_39876_row4_col5\" class=\"data row4 col5\" >0.7868</td>\n",
       "      <td id=\"T_39876_row4_col6\" class=\"data row4 col6\" >0.6249</td>\n",
       "      <td id=\"T_39876_row4_col7\" class=\"data row4 col7\" >0.6421</td>\n",
       "      <td id=\"T_39876_row4_col8\" class=\"data row4 col8\" >0.2380</td>\n",
       "    </tr>\n",
       "    <tr>\n",
       "      <th id=\"T_39876_level0_row5\" class=\"row_heading level0 row5\" >et</th>\n",
       "      <td id=\"T_39876_row5_col0\" class=\"data row5 col0\" >Extra Trees Classifier</td>\n",
       "      <td id=\"T_39876_row5_col1\" class=\"data row5 col1\" >0.8116</td>\n",
       "      <td id=\"T_39876_row5_col2\" class=\"data row5 col2\" >0.8862</td>\n",
       "      <td id=\"T_39876_row5_col3\" class=\"data row5 col3\" >0.7333</td>\n",
       "      <td id=\"T_39876_row5_col4\" class=\"data row5 col4\" >0.8456</td>\n",
       "      <td id=\"T_39876_row5_col5\" class=\"data row5 col5\" >0.7768</td>\n",
       "      <td id=\"T_39876_row5_col6\" class=\"data row5 col6\" >0.6156</td>\n",
       "      <td id=\"T_39876_row5_col7\" class=\"data row5 col7\" >0.6302</td>\n",
       "      <td id=\"T_39876_row5_col8\" class=\"data row5 col8\" >0.5620</td>\n",
       "    </tr>\n",
       "    <tr>\n",
       "      <th id=\"T_39876_level0_row6\" class=\"row_heading level0 row6\" >lightgbm</th>\n",
       "      <td id=\"T_39876_row6_col0\" class=\"data row6 col0\" >Light Gradient Boosting Machine</td>\n",
       "      <td id=\"T_39876_row6_col1\" class=\"data row6 col1\" >0.8116</td>\n",
       "      <td id=\"T_39876_row6_col2\" class=\"data row6 col2\" >0.8988</td>\n",
       "      <td id=\"T_39876_row6_col3\" class=\"data row6 col3\" >0.7889</td>\n",
       "      <td id=\"T_39876_row6_col4\" class=\"data row6 col4\" >0.8090</td>\n",
       "      <td id=\"T_39876_row6_col5\" class=\"data row6 col5\" >0.7927</td>\n",
       "      <td id=\"T_39876_row6_col6\" class=\"data row6 col6\" >0.6198</td>\n",
       "      <td id=\"T_39876_row6_col7\" class=\"data row6 col7\" >0.6291</td>\n",
       "      <td id=\"T_39876_row6_col8\" class=\"data row6 col8\" >0.4680</td>\n",
       "    </tr>\n",
       "    <tr>\n",
       "      <th id=\"T_39876_level0_row7\" class=\"row_heading level0 row7\" >lr</th>\n",
       "      <td id=\"T_39876_row7_col0\" class=\"data row7 col0\" >Logistic Regression</td>\n",
       "      <td id=\"T_39876_row7_col1\" class=\"data row7 col1\" >0.8058</td>\n",
       "      <td id=\"T_39876_row7_col2\" class=\"data row7 col2\" >0.9027</td>\n",
       "      <td id=\"T_39876_row7_col3\" class=\"data row7 col3\" >0.7556</td>\n",
       "      <td id=\"T_39876_row7_col4\" class=\"data row7 col4\" >0.8247</td>\n",
       "      <td id=\"T_39876_row7_col5\" class=\"data row7 col5\" >0.7800</td>\n",
       "      <td id=\"T_39876_row7_col6\" class=\"data row7 col6\" >0.6061</td>\n",
       "      <td id=\"T_39876_row7_col7\" class=\"data row7 col7\" >0.6168</td>\n",
       "      <td id=\"T_39876_row7_col8\" class=\"data row7 col8\" >0.9930</td>\n",
       "    </tr>\n",
       "    <tr>\n",
       "      <th id=\"T_39876_level0_row8\" class=\"row_heading level0 row8\" >knn</th>\n",
       "      <td id=\"T_39876_row8_col0\" class=\"data row8 col0\" >K Neighbors Classifier</td>\n",
       "      <td id=\"T_39876_row8_col1\" class=\"data row8 col1\" >0.8050</td>\n",
       "      <td id=\"T_39876_row8_col2\" class=\"data row8 col2\" >0.8406</td>\n",
       "      <td id=\"T_39876_row8_col3\" class=\"data row8 col3\" >0.8000</td>\n",
       "      <td id=\"T_39876_row8_col4\" class=\"data row8 col4\" >0.7911</td>\n",
       "      <td id=\"T_39876_row8_col5\" class=\"data row8 col5\" >0.7919</td>\n",
       "      <td id=\"T_39876_row8_col6\" class=\"data row8 col6\" >0.6077</td>\n",
       "      <td id=\"T_39876_row8_col7\" class=\"data row8 col7\" >0.6129</td>\n",
       "      <td id=\"T_39876_row8_col8\" class=\"data row8 col8\" >0.2460</td>\n",
       "    </tr>\n",
       "    <tr>\n",
       "      <th id=\"T_39876_level0_row9\" class=\"row_heading level0 row9\" >gbc</th>\n",
       "      <td id=\"T_39876_row9_col0\" class=\"data row9 col0\" >Gradient Boosting Classifier</td>\n",
       "      <td id=\"T_39876_row9_col1\" class=\"data row9 col1\" >0.7966</td>\n",
       "      <td id=\"T_39876_row9_col2\" class=\"data row9 col2\" >0.8962</td>\n",
       "      <td id=\"T_39876_row9_col3\" class=\"data row9 col3\" >0.7889</td>\n",
       "      <td id=\"T_39876_row9_col4\" class=\"data row9 col4\" >0.7747</td>\n",
       "      <td id=\"T_39876_row9_col5\" class=\"data row9 col5\" >0.7769</td>\n",
       "      <td id=\"T_39876_row9_col6\" class=\"data row9 col6\" >0.5895</td>\n",
       "      <td id=\"T_39876_row9_col7\" class=\"data row9 col7\" >0.5977</td>\n",
       "      <td id=\"T_39876_row9_col8\" class=\"data row9 col8\" >0.4370</td>\n",
       "    </tr>\n",
       "    <tr>\n",
       "      <th id=\"T_39876_level0_row10\" class=\"row_heading level0 row10\" >nb</th>\n",
       "      <td id=\"T_39876_row10_col0\" class=\"data row10 col0\" >Naive Bayes</td>\n",
       "      <td id=\"T_39876_row10_col1\" class=\"data row10 col1\" >0.7916</td>\n",
       "      <td id=\"T_39876_row10_col2\" class=\"data row10 col2\" >0.8601</td>\n",
       "      <td id=\"T_39876_row10_col3\" class=\"data row10 col3\" >0.7444</td>\n",
       "      <td id=\"T_39876_row10_col4\" class=\"data row10 col4\" >0.7955</td>\n",
       "      <td id=\"T_39876_row10_col5\" class=\"data row10 col5\" >0.7582</td>\n",
       "      <td id=\"T_39876_row10_col6\" class=\"data row10 col6\" >0.5766</td>\n",
       "      <td id=\"T_39876_row10_col7\" class=\"data row10 col7\" >0.5901</td>\n",
       "      <td id=\"T_39876_row10_col8\" class=\"data row10 col8\" >0.1920</td>\n",
       "    </tr>\n",
       "    <tr>\n",
       "      <th id=\"T_39876_level0_row11\" class=\"row_heading level0 row11\" >svm</th>\n",
       "      <td id=\"T_39876_row11_col0\" class=\"data row11 col0\" >SVM - Linear Kernel</td>\n",
       "      <td id=\"T_39876_row11_col1\" class=\"data row11 col1\" >0.7900</td>\n",
       "      <td id=\"T_39876_row11_col2\" class=\"data row11 col2\" >0.0000</td>\n",
       "      <td id=\"T_39876_row11_col3\" class=\"data row11 col3\" >0.7444</td>\n",
       "      <td id=\"T_39876_row11_col4\" class=\"data row11 col4\" >0.7960</td>\n",
       "      <td id=\"T_39876_row11_col5\" class=\"data row11 col5\" >0.7665</td>\n",
       "      <td id=\"T_39876_row11_col6\" class=\"data row11 col6\" >0.5754</td>\n",
       "      <td id=\"T_39876_row11_col7\" class=\"data row11 col7\" >0.5799</td>\n",
       "      <td id=\"T_39876_row11_col8\" class=\"data row11 col8\" >0.1980</td>\n",
       "    </tr>\n",
       "    <tr>\n",
       "      <th id=\"T_39876_level0_row12\" class=\"row_heading level0 row12\" >ada</th>\n",
       "      <td id=\"T_39876_row12_col0\" class=\"data row12 col0\" >Ada Boost Classifier</td>\n",
       "      <td id=\"T_39876_row12_col1\" class=\"data row12 col1\" >0.7858</td>\n",
       "      <td id=\"T_39876_row12_col2\" class=\"data row12 col2\" >0.8504</td>\n",
       "      <td id=\"T_39876_row12_col3\" class=\"data row12 col3\" >0.7222</td>\n",
       "      <td id=\"T_39876_row12_col4\" class=\"data row12 col4\" >0.8034</td>\n",
       "      <td id=\"T_39876_row12_col5\" class=\"data row12 col5\" >0.7546</td>\n",
       "      <td id=\"T_39876_row12_col6\" class=\"data row12 col6\" >0.5650</td>\n",
       "      <td id=\"T_39876_row12_col7\" class=\"data row12 col7\" >0.5743</td>\n",
       "      <td id=\"T_39876_row12_col8\" class=\"data row12 col8\" >0.4090</td>\n",
       "    </tr>\n",
       "    <tr>\n",
       "      <th id=\"T_39876_level0_row13\" class=\"row_heading level0 row13\" >dt</th>\n",
       "      <td id=\"T_39876_row13_col0\" class=\"data row13 col0\" >Decision Tree Classifier</td>\n",
       "      <td id=\"T_39876_row13_col1\" class=\"data row13 col1\" >0.7647</td>\n",
       "      <td id=\"T_39876_row13_col2\" class=\"data row13 col2\" >0.7642</td>\n",
       "      <td id=\"T_39876_row13_col3\" class=\"data row13 col3\" >0.7667</td>\n",
       "      <td id=\"T_39876_row13_col4\" class=\"data row13 col4\" >0.7343</td>\n",
       "      <td id=\"T_39876_row13_col5\" class=\"data row13 col5\" >0.7429</td>\n",
       "      <td id=\"T_39876_row13_col6\" class=\"data row13 col6\" >0.5261</td>\n",
       "      <td id=\"T_39876_row13_col7\" class=\"data row13 col7\" >0.5356</td>\n",
       "      <td id=\"T_39876_row13_col8\" class=\"data row13 col8\" >0.2180</td>\n",
       "    </tr>\n",
       "    <tr>\n",
       "      <th id=\"T_39876_level0_row14\" class=\"row_heading level0 row14\" >qda</th>\n",
       "      <td id=\"T_39876_row14_col0\" class=\"data row14 col0\" >Quadratic Discriminant Analysis</td>\n",
       "      <td id=\"T_39876_row14_col1\" class=\"data row14 col1\" >0.7187</td>\n",
       "      <td id=\"T_39876_row14_col2\" class=\"data row14 col2\" >0.7220</td>\n",
       "      <td id=\"T_39876_row14_col3\" class=\"data row14 col3\" >0.6556</td>\n",
       "      <td id=\"T_39876_row14_col4\" class=\"data row14 col4\" >0.7404</td>\n",
       "      <td id=\"T_39876_row14_col5\" class=\"data row14 col5\" >0.6775</td>\n",
       "      <td id=\"T_39876_row14_col6\" class=\"data row14 col6\" >0.4294</td>\n",
       "      <td id=\"T_39876_row14_col7\" class=\"data row14 col7\" >0.4405</td>\n",
       "      <td id=\"T_39876_row14_col8\" class=\"data row14 col8\" >0.2440</td>\n",
       "    </tr>\n",
       "    <tr>\n",
       "      <th id=\"T_39876_level0_row15\" class=\"row_heading level0 row15\" >dummy</th>\n",
       "      <td id=\"T_39876_row15_col0\" class=\"data row15 col0\" >Dummy Classifier</td>\n",
       "      <td id=\"T_39876_row15_col1\" class=\"data row15 col1\" >0.5405</td>\n",
       "      <td id=\"T_39876_row15_col2\" class=\"data row15 col2\" >0.5000</td>\n",
       "      <td id=\"T_39876_row15_col3\" class=\"data row15 col3\" >0.0000</td>\n",
       "      <td id=\"T_39876_row15_col4\" class=\"data row15 col4\" >0.0000</td>\n",
       "      <td id=\"T_39876_row15_col5\" class=\"data row15 col5\" >0.0000</td>\n",
       "      <td id=\"T_39876_row15_col6\" class=\"data row15 col6\" >0.0000</td>\n",
       "      <td id=\"T_39876_row15_col7\" class=\"data row15 col7\" >0.0000</td>\n",
       "      <td id=\"T_39876_row15_col8\" class=\"data row15 col8\" >0.2280</td>\n",
       "    </tr>\n",
       "  </tbody>\n",
       "</table>\n"
      ],
      "text/plain": [
       "<pandas.io.formats.style.Styler at 0x1f1192b6280>"
      ]
     },
     "metadata": {},
     "output_type": "display_data"
    },
    {
     "data": {
      "application/vnd.jupyter.widget-view+json": {
       "model_id": "",
       "version_major": 2,
       "version_minor": 0
      },
      "text/plain": [
       "Processing:   0%|          | 0/69 [00:00<?, ?it/s]"
      ]
     },
     "metadata": {},
     "output_type": "display_data"
    },
    {
     "data": {
      "text/html": [
       "<style>#sk-container-id-1 {color: black;background-color: white;}#sk-container-id-1 pre{padding: 0;}#sk-container-id-1 div.sk-toggleable {background-color: white;}#sk-container-id-1 label.sk-toggleable__label {cursor: pointer;display: block;width: 100%;margin-bottom: 0;padding: 0.3em;box-sizing: border-box;text-align: center;}#sk-container-id-1 label.sk-toggleable__label-arrow:before {content: \"▸\";float: left;margin-right: 0.25em;color: #696969;}#sk-container-id-1 label.sk-toggleable__label-arrow:hover:before {color: black;}#sk-container-id-1 div.sk-estimator:hover label.sk-toggleable__label-arrow:before {color: black;}#sk-container-id-1 div.sk-toggleable__content {max-height: 0;max-width: 0;overflow: hidden;text-align: left;background-color: #f0f8ff;}#sk-container-id-1 div.sk-toggleable__content pre {margin: 0.2em;color: black;border-radius: 0.25em;background-color: #f0f8ff;}#sk-container-id-1 input.sk-toggleable__control:checked~div.sk-toggleable__content {max-height: 200px;max-width: 100%;overflow: auto;}#sk-container-id-1 input.sk-toggleable__control:checked~label.sk-toggleable__label-arrow:before {content: \"▾\";}#sk-container-id-1 div.sk-estimator input.sk-toggleable__control:checked~label.sk-toggleable__label {background-color: #d4ebff;}#sk-container-id-1 div.sk-label input.sk-toggleable__control:checked~label.sk-toggleable__label {background-color: #d4ebff;}#sk-container-id-1 input.sk-hidden--visually {border: 0;clip: rect(1px 1px 1px 1px);clip: rect(1px, 1px, 1px, 1px);height: 1px;margin: -1px;overflow: hidden;padding: 0;position: absolute;width: 1px;}#sk-container-id-1 div.sk-estimator {font-family: monospace;background-color: #f0f8ff;border: 1px dotted black;border-radius: 0.25em;box-sizing: border-box;margin-bottom: 0.5em;}#sk-container-id-1 div.sk-estimator:hover {background-color: #d4ebff;}#sk-container-id-1 div.sk-parallel-item::after {content: \"\";width: 100%;border-bottom: 1px solid gray;flex-grow: 1;}#sk-container-id-1 div.sk-label:hover label.sk-toggleable__label {background-color: #d4ebff;}#sk-container-id-1 div.sk-serial::before {content: \"\";position: absolute;border-left: 1px solid gray;box-sizing: border-box;top: 0;bottom: 0;left: 50%;z-index: 0;}#sk-container-id-1 div.sk-serial {display: flex;flex-direction: column;align-items: center;background-color: white;padding-right: 0.2em;padding-left: 0.2em;position: relative;}#sk-container-id-1 div.sk-item {position: relative;z-index: 1;}#sk-container-id-1 div.sk-parallel {display: flex;align-items: stretch;justify-content: center;background-color: white;position: relative;}#sk-container-id-1 div.sk-item::before, #sk-container-id-1 div.sk-parallel-item::before {content: \"\";position: absolute;border-left: 1px solid gray;box-sizing: border-box;top: 0;bottom: 0;left: 50%;z-index: -1;}#sk-container-id-1 div.sk-parallel-item {display: flex;flex-direction: column;z-index: 1;position: relative;background-color: white;}#sk-container-id-1 div.sk-parallel-item:first-child::after {align-self: flex-end;width: 50%;}#sk-container-id-1 div.sk-parallel-item:last-child::after {align-self: flex-start;width: 50%;}#sk-container-id-1 div.sk-parallel-item:only-child::after {width: 0;}#sk-container-id-1 div.sk-dashed-wrapped {border: 1px dashed gray;margin: 0 0.4em 0.5em 0.4em;box-sizing: border-box;padding-bottom: 0.4em;background-color: white;}#sk-container-id-1 div.sk-label label {font-family: monospace;font-weight: bold;display: inline-block;line-height: 1.2em;}#sk-container-id-1 div.sk-label-container {text-align: center;}#sk-container-id-1 div.sk-container {/* jupyter's `normalize.less` sets `[hidden] { display: none; }` but bootstrap.min.css set `[hidden] { display: none !important; }` so we also need the `!important` here to be able to override the default hidden behavior on the sphinx rendered scikit-learn.org. See: https://github.com/scikit-learn/scikit-learn/issues/21755 */display: inline-block !important;position: relative;}#sk-container-id-1 div.sk-text-repr-fallback {display: none;}</style><div id=\"sk-container-id-1\" class=\"sk-top-container\"><div class=\"sk-text-repr-fallback\"><pre>RandomForestClassifier(bootstrap=True, ccp_alpha=0.0, class_weight=None,\n",
       "                       criterion=&#x27;gini&#x27;, max_depth=None, max_features=&#x27;sqrt&#x27;,\n",
       "                       max_leaf_nodes=None, max_samples=None,\n",
       "                       min_impurity_decrease=0.0, min_samples_leaf=1,\n",
       "                       min_samples_split=2, min_weight_fraction_leaf=0.0,\n",
       "                       n_estimators=100, n_jobs=-1, oob_score=False,\n",
       "                       random_state=1935, verbose=0, warm_start=False)</pre><b>In a Jupyter environment, please rerun this cell to show the HTML representation or trust the notebook. <br />On GitHub, the HTML representation is unable to render, please try loading this page with nbviewer.org.</b></div><div class=\"sk-container\" hidden><div class=\"sk-item\"><div class=\"sk-estimator sk-toggleable\"><input class=\"sk-toggleable__control sk-hidden--visually\" id=\"sk-estimator-id-1\" type=\"checkbox\" checked><label for=\"sk-estimator-id-1\" class=\"sk-toggleable__label sk-toggleable__label-arrow\">RandomForestClassifier</label><div class=\"sk-toggleable__content\"><pre>RandomForestClassifier(bootstrap=True, ccp_alpha=0.0, class_weight=None,\n",
       "                       criterion=&#x27;gini&#x27;, max_depth=None, max_features=&#x27;sqrt&#x27;,\n",
       "                       max_leaf_nodes=None, max_samples=None,\n",
       "                       min_impurity_decrease=0.0, min_samples_leaf=1,\n",
       "                       min_samples_split=2, min_weight_fraction_leaf=0.0,\n",
       "                       n_estimators=100, n_jobs=-1, oob_score=False,\n",
       "                       random_state=1935, verbose=0, warm_start=False)</pre></div></div></div></div></div>"
      ],
      "text/plain": [
       "RandomForestClassifier(bootstrap=True, ccp_alpha=0.0, class_weight=None,\n",
       "                       criterion='gini', max_depth=None, max_features='sqrt',\n",
       "                       max_leaf_nodes=None, max_samples=None,\n",
       "                       min_impurity_decrease=0.0, min_samples_leaf=1,\n",
       "                       min_samples_split=2, min_weight_fraction_leaf=0.0,\n",
       "                       n_estimators=100, n_jobs=-1, oob_score=False,\n",
       "                       random_state=1935, verbose=0, warm_start=False)"
      ]
     },
     "execution_count": 22,
     "metadata": {},
     "output_type": "execute_result"
    }
   ],
   "source": [
    "compare_models() #16 modelos"
   ]
  },
  {
   "cell_type": "markdown",
   "id": "576ca441",
   "metadata": {},
   "source": [
    "### F1\n",
    "\n",
    "$ \\textbf{Precisão} = \\frac{VP}{VP + FP} $\n",
    "\n",
    "* *VP*- verdadeiro positivo (o modelo previu certa a classe da observação); \n",
    "* *FP*- falso positivo (o modelo previu errada a classe da observação). \n"
   ]
  },
  {
   "cell_type": "markdown",
   "id": "d36b4930",
   "metadata": {},
   "source": [
    "## 3. Create model\n",
    "\n",
    "Cria o modelo de machine learning através da abordagem do uso K-fold cross validation."
   ]
  },
  {
   "cell_type": "markdown",
   "id": "05ee84e7",
   "metadata": {},
   "source": [
    "### Catboost"
   ]
  },
  {
   "cell_type": "code",
   "execution_count": null,
   "id": "104ae3ad",
   "metadata": {},
   "outputs": [],
   "source": [
    "#Obtidos a patir da base de treino\n",
    "model_1 = create_model('catboost')"
   ]
  },
  {
   "cell_type": "code",
   "execution_count": null,
   "id": "19106843",
   "metadata": {},
   "outputs": [],
   "source": [
    "#Resultados da base de teste\n",
    "predict_model(model_1, data = df_teste); #86% de precisão"
   ]
  },
  {
   "cell_type": "markdown",
   "id": "3739f149",
   "metadata": {},
   "source": [
    "**Insight**: Comparar os resultados da base de treino com a base de teste. É sempre desejado que ambos os resultados (métricas de classificação) estejam próximas."
   ]
  },
  {
   "cell_type": "markdown",
   "id": "d3d872d9",
   "metadata": {},
   "source": [
    "## 4. Tune model\n",
    "\n",
    "Ajusta (tunar) os hiperparâmetros do modelo criado, encontrando uma nova combinação de parâmetros. "
   ]
  },
  {
   "cell_type": "code",
   "execution_count": null,
   "id": "0fc36073",
   "metadata": {},
   "outputs": [],
   "source": [
    "tune_model_1 = tune_model(model_1)"
   ]
  },
  {
   "cell_type": "code",
   "execution_count": null,
   "id": "d6fa871e",
   "metadata": {},
   "outputs": [],
   "source": [
    "#Resultados da base de teste\n",
    "predict_model(tune_model_1, data = df_teste); #84% de precisão"
   ]
  },
  {
   "cell_type": "markdown",
   "id": "0d79a104",
   "metadata": {},
   "source": []
  },
  {
   "cell_type": "code",
   "execution_count": null,
   "id": "8b738a54",
   "metadata": {},
   "outputs": [],
   "source": [
    "evaluate_model(model_1)"
   ]
  },
  {
   "cell_type": "code",
   "execution_count": null,
   "id": "215c71d2",
   "metadata": {},
   "outputs": [],
   "source": [
    "plot_model(model_1, plot = 'confusion_matrix')"
   ]
  },
  {
   "cell_type": "code",
   "execution_count": null,
   "id": "219e2360",
   "metadata": {},
   "outputs": [],
   "source": [
    "predict_model(model_1)"
   ]
  },
  {
   "cell_type": "code",
   "execution_count": null,
   "id": "7f26bc27",
   "metadata": {},
   "outputs": [],
   "source": []
  },
  {
   "cell_type": "code",
   "execution_count": null,
   "id": "65704976",
   "metadata": {},
   "outputs": [],
   "source": [
    "final_model = finalize_model(model_1)"
   ]
  },
  {
   "cell_type": "code",
   "execution_count": null,
   "id": "95d07c4e",
   "metadata": {},
   "outputs": [],
   "source": [
    "save_model(model_1, 'my_best_pipeline')"
   ]
  },
  {
   "cell_type": "code",
   "execution_count": null,
   "id": "f54b51f7",
   "metadata": {},
   "outputs": [],
   "source": [
    "plot_model(model_1, plot = 'ks')"
   ]
  },
  {
   "cell_type": "code",
   "execution_count": null,
   "id": "03a7e06f",
   "metadata": {},
   "outputs": [],
   "source": [
    "plot_model(tune_model_1, plot = 'ks', use_train_data = True)"
   ]
  },
  {
   "cell_type": "markdown",
   "id": "78b81fdf",
   "metadata": {},
   "source": [
    "## Modeling"
   ]
  },
  {
   "cell_type": "markdown",
   "id": "bfe355d1",
   "metadata": {},
   "source": [
    "### Environment"
   ]
  },
  {
   "cell_type": "markdown",
   "id": "b379244a",
   "metadata": {},
   "source": [
    "### Compare models"
   ]
  },
  {
   "cell_type": "markdown",
   "id": "afd433bd",
   "metadata": {},
   "source": [
    "### Create a model"
   ]
  },
  {
   "cell_type": "code",
   "execution_count": null,
   "id": "f2f8f5d2",
   "metadata": {},
   "outputs": [],
   "source": [
    "lr = create_model('lr')"
   ]
  },
  {
   "cell_type": "code",
   "execution_count": null,
   "id": "bc1e48f7",
   "metadata": {},
   "outputs": [],
   "source": [
    "plot_model(lr)"
   ]
  },
  {
   "cell_type": "code",
   "execution_count": null,
   "id": "e4aa8b7b",
   "metadata": {},
   "outputs": [],
   "source": [
    "v1"
   ]
  },
  {
   "cell_type": "code",
   "execution_count": null,
   "id": "1998bdb6",
   "metadata": {},
   "outputs": [],
   "source": []
  },
  {
   "cell_type": "code",
   "execution_count": null,
   "id": "5752117f",
   "metadata": {},
   "outputs": [],
   "source": []
  },
  {
   "cell_type": "code",
   "execution_count": null,
   "id": "1e7c6a73",
   "metadata": {},
   "outputs": [],
   "source": []
  },
  {
   "cell_type": "code",
   "execution_count": null,
   "id": "bb25db5d",
   "metadata": {},
   "outputs": [],
   "source": []
  }
 ],
 "metadata": {
  "kernelspec": {
   "display_name": "Python 3 (ipykernel)",
   "language": "python",
   "name": "python3"
  },
  "language_info": {
   "codemirror_mode": {
    "name": "ipython",
    "version": 3
   },
   "file_extension": ".py",
   "mimetype": "text/x-python",
   "name": "python",
   "nbconvert_exporter": "python",
   "pygments_lexer": "ipython3",
   "version": "3.9.13"
  }
 },
 "nbformat": 4,
 "nbformat_minor": 5
}
